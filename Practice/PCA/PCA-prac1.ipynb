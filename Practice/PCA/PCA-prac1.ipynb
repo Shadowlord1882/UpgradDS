{
 "cells": [
  {
   "cell_type": "code",
   "execution_count": 41,
   "metadata": {},
   "outputs": [
    {
     "name": "stderr",
     "output_type": "stream",
     "text": [
      "c:\\users\\ratish\\appdata\\local\\programs\\python\\python37-32\\lib\\importlib\\_bootstrap.py:219: RuntimeWarning: numpy.ufunc size changed, may indicate binary incompatibility. Expected 112 from C header, got 124 from PyObject\n",
      "  return f(*args, **kwds)\n",
      "c:\\users\\ratish\\appdata\\local\\programs\\python\\python37-32\\lib\\importlib\\_bootstrap.py:219: RuntimeWarning: numpy.ufunc size changed, may indicate binary incompatibility. Expected 112 from C header, got 124 from PyObject\n",
      "  return f(*args, **kwds)\n"
     ]
    },
    {
     "data": {
      "text/plain": [
       "array([[ 2,  7,  1],\n",
       "       [-2,  1,  8],\n",
       "       [ 3,  4, -2]])"
      ]
     },
     "execution_count": 41,
     "metadata": {},
     "output_type": "execute_result"
    }
   ],
   "source": [
    "import numpy as np\n",
    "import pandas as pd\n",
    "A = np.array([[2,7,1],[-2,1,8],[3,4,-2]])\n",
    "B = np.array([[8,1,3],[3,5,8],[7,-2,-4]])\n",
    "A"
   ]
  },
  {
   "cell_type": "code",
   "execution_count": 8,
   "metadata": {},
   "outputs": [
    {
     "data": {
      "text/plain": [
       "array([[ 8,  1,  3],\n",
       "       [ 3,  5,  8],\n",
       "       [ 7, -2, -4]])"
      ]
     },
     "execution_count": 8,
     "metadata": {},
     "output_type": "execute_result"
    }
   ],
   "source": [
    "B"
   ]
  },
  {
   "cell_type": "code",
   "execution_count": 10,
   "metadata": {},
   "outputs": [
    {
     "data": {
      "text/plain": [
       "array([[ 44,  35,  58],\n",
       "       [ 43, -13, -30],\n",
       "       [ 22,  27,  49]])"
      ]
     },
     "execution_count": 10,
     "metadata": {},
     "output_type": "execute_result"
    }
   ],
   "source": [
    "C = A@B\n",
    "C"
   ]
  },
  {
   "cell_type": "markdown",
   "metadata": {},
   "source": [
    "## Matrix Inverse"
   ]
  },
  {
   "cell_type": "code",
   "execution_count": 11,
   "metadata": {},
   "outputs": [
    {
     "data": {
      "text/plain": [
       "array([[-0.55737705,  0.29508197,  0.90163934],\n",
       "       [ 0.32786885, -0.1147541 , -0.29508197],\n",
       "       [-0.18032787,  0.21311475,  0.26229508]])"
      ]
     },
     "execution_count": 11,
     "metadata": {},
     "output_type": "execute_result"
    }
   ],
   "source": [
    "At=np.linalg.inv(A)\n",
    "At"
   ]
  },
  {
   "cell_type": "code",
   "execution_count": 12,
   "metadata": {},
   "outputs": [
    {
     "data": {
      "text/plain": [
       "array([[ 2.,  7.,  1.],\n",
       "       [-2.,  1.,  8.],\n",
       "       [ 3.,  4., -2.]])"
      ]
     },
     "execution_count": 12,
     "metadata": {},
     "output_type": "execute_result"
    }
   ],
   "source": [
    "at1=np.linalg.inv(At)\n",
    "at1"
   ]
  },
  {
   "cell_type": "code",
   "execution_count": 13,
   "metadata": {},
   "outputs": [
    {
     "name": "stdout",
     "output_type": "stream",
     "text": [
      "[[ 3. -1. -1.]\n",
      " [-4.  2.  1.]\n",
      " [-1.  0.  1.]]\n"
     ]
    }
   ],
   "source": [
    "C=np.array([[2,1,1],[3,2,1],[2,1,2]])\n",
    "print(np.linalg.inv(C))"
   ]
  },
  {
   "cell_type": "code",
   "execution_count": 17,
   "metadata": {},
   "outputs": [
    {
     "name": "stdout",
     "output_type": "stream",
     "text": [
      "[[ 1.334 -1.   ]\n",
      " [ 0.667  0.5  ]]\n"
     ]
    }
   ],
   "source": [
    "B1=np.array([[2,-2],[1,1]])\n",
    "M=np.array([[0.667,0],[0,0.5]])\n",
    "print(B1@M)"
   ]
  },
  {
   "cell_type": "code",
   "execution_count": 23,
   "metadata": {},
   "outputs": [],
   "source": [
    "B1=np.array([[3,1],[8,-16]])\n",
    "B3=np.array([[3],[2]])"
   ]
  },
  {
   "cell_type": "code",
   "execution_count": 36,
   "metadata": {},
   "outputs": [
    {
     "name": "stdout",
     "output_type": "stream",
     "text": [
      "[[ 0.28571429  0.14285714]\n",
      " [ 0.01785714 -0.05357143]]\n"
     ]
    }
   ],
   "source": [
    "#invB1=np.linalg.inv(B3)\n",
    "#B2=B1@invB1\n",
    "#invB1\n",
    "mat_V=np.array([2,3,1,-2]).reshape(2,2).T\n",
    "B_V1=np.array([2,-1])\n",
    "B_V2=np.array([-2,5])\n",
    "M1=mat_V@B_V1\n",
    "M2=mat_V@B_V2\n",
    "M=np.array([M1,M2])\n",
    "M=np.linalg.inv(M)\n",
    "print (M)"
   ]
  },
  {
   "cell_type": "code",
   "execution_count": 39,
   "metadata": {},
   "outputs": [
    {
     "name": "stdout",
     "output_type": "stream",
     "text": [
      "[[ 25.]\n",
      " [-29.]]\n"
     ]
    }
   ],
   "source": [
    "print(np.linalg.inv(M)@B3)"
   ]
  },
  {
   "cell_type": "code",
   "execution_count": 42,
   "metadata": {},
   "outputs": [
    {
     "data": {
      "text/html": [
       "<div>\n",
       "<style scoped>\n",
       "    .dataframe tbody tr th:only-of-type {\n",
       "        vertical-align: middle;\n",
       "    }\n",
       "\n",
       "    .dataframe tbody tr th {\n",
       "        vertical-align: top;\n",
       "    }\n",
       "\n",
       "    .dataframe thead th {\n",
       "        text-align: right;\n",
       "    }\n",
       "</style>\n",
       "<table border=\"1\" class=\"dataframe\">\n",
       "  <thead>\n",
       "    <tr style=\"text-align: right;\">\n",
       "      <th></th>\n",
       "      <th>X</th>\n",
       "      <th>Y</th>\n",
       "    </tr>\n",
       "  </thead>\n",
       "  <tbody>\n",
       "    <tr>\n",
       "      <th>0</th>\n",
       "      <td>2</td>\n",
       "      <td>1</td>\n",
       "    </tr>\n",
       "    <tr>\n",
       "      <th>1</th>\n",
       "      <td>3</td>\n",
       "      <td>2</td>\n",
       "    </tr>\n",
       "    <tr>\n",
       "      <th>2</th>\n",
       "      <td>2</td>\n",
       "      <td>1</td>\n",
       "    </tr>\n",
       "    <tr>\n",
       "      <th>3</th>\n",
       "      <td>5</td>\n",
       "      <td>1</td>\n",
       "    </tr>\n",
       "  </tbody>\n",
       "</table>\n",
       "</div>"
      ],
      "text/plain": [
       "   X  Y\n",
       "0  2  1\n",
       "1  3  2\n",
       "2  2  1\n",
       "3  5  1"
      ]
     },
     "execution_count": 42,
     "metadata": {},
     "output_type": "execute_result"
    }
   ],
   "source": [
    "a=[[2,1],[3,2],[2,1],[5,1]]\n",
    "b = ['X','Y']\n",
    "df=pd.DataFrame(a,columns=b)\n",
    "df"
   ]
  },
  {
   "cell_type": "code",
   "execution_count": 43,
   "metadata": {},
   "outputs": [
    {
     "data": {
      "text/plain": [
       "array([[2.  , 0.  ],\n",
       "       [0.  , 0.25]])"
      ]
     },
     "execution_count": 43,
     "metadata": {},
     "output_type": "execute_result"
    }
   ],
   "source": [
    "df_cov=np.cov(df.T)\n",
    "df_cov"
   ]
  },
  {
   "cell_type": "code",
   "execution_count": 62,
   "metadata": {},
   "outputs": [
    {
     "name": "stdout",
     "output_type": "stream",
     "text": [
      "TEst 22\n"
     ]
    }
   ],
   "source": [
    "n=3\n",
    "sumsqr=0\n",
    "abssqr=0\n",
    "for i in range(1,n+1):\n",
    "    sumsqr+=i**2\n",
    "    #i+=1\n",
    "for i in range(1,n+1):\n",
    "    abssqr+=i\n",
    "\n",
    "abssqr=abssqr**2\n",
    "abs_difference = abs(sumsqr - abssqr)\n",
    "print (\"TEst %i\" % abs_difference)"
   ]
  },
  {
   "cell_type": "code",
   "execution_count": 66,
   "metadata": {},
   "outputs": [
    {
     "name": "stdout",
     "output_type": "stream",
     "text": [
      "0\n",
      "10\n",
      "20\n",
      "20\n",
      "50\n"
     ]
    }
   ],
   "source": [
    "import math\n",
    "input_list=[2, 14, 15, 16]\n",
    "\n",
    "def round( n ):\n",
    "    a = (n // 10) * 10\n",
    "    b = a + 10\n",
    "    return (b if n - a >= b - n else a) \n",
    "\n",
    "sum=0\n",
    "for i in input_list:\n",
    "    print(round(i))\n",
    "    sum+=round(i)\n",
    "print(sum)"
   ]
  },
  {
   "cell_type": "code",
   "execution_count": 68,
   "metadata": {},
   "outputs": [
    {
     "name": "stdout",
     "output_type": "stream",
     "text": [
      "10:00\n"
     ]
    }
   ],
   "source": [
    "input_list=[3,True]\n",
    "day_of_the_week = input_list[0]\n",
    "is_on_vacation = input_list[1]\n",
    "# write your code here\n",
    "def alarm_clock(day, vacation):\n",
    "    time=''\n",
    "    if(vacation):\n",
    "        if(day<=5):\n",
    "            time='10:00'\n",
    "        else:\n",
    "            time='off'\n",
    "    else:\n",
    "        if(day<=5):\n",
    "            time='7:00'\n",
    "        else:\n",
    "            time='10:00'\n",
    "    return time\n",
    "time = alarm_clock(day_of_the_week, is_on_vacation)\n",
    "print(time.lower())"
   ]
  },
  {
   "cell_type": "code",
   "execution_count": null,
   "metadata": {},
   "outputs": [],
   "source": []
  }
 ],
 "metadata": {
  "kernelspec": {
   "display_name": "Python 3",
   "language": "python",
   "name": "python3"
  },
  "language_info": {
   "codemirror_mode": {
    "name": "ipython",
    "version": 3
   },
   "file_extension": ".py",
   "mimetype": "text/x-python",
   "name": "python",
   "nbconvert_exporter": "python",
   "pygments_lexer": "ipython3",
   "version": "3.7.4"
  }
 },
 "nbformat": 4,
 "nbformat_minor": 2
}
