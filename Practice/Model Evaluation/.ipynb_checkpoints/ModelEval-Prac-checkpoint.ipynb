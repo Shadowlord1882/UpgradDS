{
 "cells": [
  {
   "cell_type": "code",
   "execution_count": 31,
   "metadata": {},
   "outputs": [
    {
     "name": "stdout",
     "output_type": "stream",
     "text": [
      "[1, 2, 3, 4, 5]\n",
      "[6, 7, 8, 9]\n"
     ]
    }
   ],
   "source": [
    "import numpy as np\n",
    "lis=[1,2,3,4,5,6,7,8,9]\n",
    "lis = list(np.hstack(lis))\n",
    "k=5\n",
    "n=(len(lis)/k)\n",
    "if(n>k):\n",
    "    n+=1\n",
    "    n=math.floor(n)\n",
    "    #n=round(n,ndigits=0)\n",
    "else:\n",
    "    #n=round(n,ndigits=0)\n",
    "    n=math.floor(n)\n",
    "lislen=len(lis)\n",
    "j=0\n",
    "# for i in range(0,n):\n",
    "#     print(lis[j:j+3])\n",
    "#     j=j+k\n",
    "while (j<=lislen):\n",
    "    print(lis[j:j+k])\n",
    "    j=j+k\n",
    "    "
   ]
  },
  {
   "cell_type": "code",
   "execution_count": 34,
   "metadata": {},
   "outputs": [
    {
     "name": "stdout",
     "output_type": "stream",
     "text": [
      "[[1, 2, 3], [4, 5], [6, 7, 8]]\n"
     ]
    }
   ],
   "source": [
    "input_list = [[1,2,3],[],[4,5],[],[],[6,7,8]]\n",
    "list2=list(filter(None,input_list))\n",
    "print(list2)"
   ]
  },
  {
   "cell_type": "code",
   "execution_count": 39,
   "metadata": {},
   "outputs": [
    {
     "name": "stdout",
     "output_type": "stream",
     "text": [
      "['2017-Aug', '2017-Sep', '2017-Oct', '2017-Nov', '2017-Dec']\n"
     ]
    }
   ],
   "source": [
    "import datetime\n",
    "import pandas as pd\n",
    "\n",
    "input_list = [2017,8,2,2018,1,1]\n",
    "dateStart=datetime.date(input_list[0],input_list[1],input_list[2])\n",
    "dateEnd=datetime.date(input_list[3],input_list[4],input_list[5])\n",
    "dtrange = pd.date_range(dateStart,dateEnd, \n",
    "              freq='M').strftime(\"%Y-%b\").tolist()\n",
    "#dtrange.sort()\n",
    "print(dtrange)"
   ]
  },
  {
   "cell_type": "code",
   "execution_count": 41,
   "metadata": {},
   "outputs": [
    {
     "name": "stdout",
     "output_type": "stream",
     "text": [
      "['January', 'August', 'September', 'October', 'November', 'December']\n"
     ]
    }
   ],
   "source": [
    "import datetime\n",
    "import ast,sys\n",
    "input_list = [2017,8,2,2018,1,1]\n",
    "dateStart=datetime.date(input_list[0],input_list[1],input_list[2])\n",
    "dateEnd=datetime.date(input_list[3],input_list[4],input_list[5])\n",
    "months = ['January', 'February', 'March', 'April', 'May', 'June', 'July', 'August', 'September', 'October', 'November', 'December']\n",
    "ans = set()\n",
    "while dateStart <= dateEnd:\n",
    "\tans.add(dateStart.month)\n",
    "\tdateStart += datetime.timedelta(1)\n",
    "print([months[x-1] for x in sorted(ans)])\n"
   ]
  },
  {
   "cell_type": "code",
   "execution_count": 47,
   "metadata": {},
   "outputs": [
    {
     "name": "stdout",
     "output_type": "stream",
     "text": [
      "yes\n"
     ]
    }
   ],
   "source": [
    "letters=\"wd\"#letters already in the crossword\n",
    "guess=\"crossword\"#word to check for fit\n",
    "ind=0\n",
    "temp=0\n",
    "cnt=0\n",
    "for i in letters:\n",
    "    if(cnt==0):\n",
    "        ind=guess.find(i)\n",
    "        temp=ind\n",
    "    else:\n",
    "        ind=guess.find(i)\n",
    "        if(temp==ind):\n",
    "            print('no')\n",
    "            break\n",
    "        elif (temp > ind):\n",
    "            print('no')\n",
    "            break\n",
    "        else:\n",
    "            temp=ind\n",
    "    cnt+=1\n",
    "if (cnt==len(letters)):\n",
    "    print('yes')"
   ]
  },
  {
   "cell_type": "code",
   "execution_count": null,
   "metadata": {},
   "outputs": [],
   "source": []
  }
 ],
 "metadata": {
  "kernelspec": {
   "display_name": "Python 3",
   "language": "python",
   "name": "python3"
  },
  "language_info": {
   "codemirror_mode": {
    "name": "ipython",
    "version": 3
   },
   "file_extension": ".py",
   "mimetype": "text/x-python",
   "name": "python",
   "nbconvert_exporter": "python",
   "pygments_lexer": "ipython3",
   "version": "3.7.4"
  }
 },
 "nbformat": 4,
 "nbformat_minor": 2
}
