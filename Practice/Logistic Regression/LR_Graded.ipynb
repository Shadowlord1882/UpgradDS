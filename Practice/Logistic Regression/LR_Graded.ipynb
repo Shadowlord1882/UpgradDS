{
 "cells": [
  {
   "cell_type": "code",
   "execution_count": 8,
   "metadata": {},
   "outputs": [
    {
     "name": "stdout",
     "output_type": "stream",
     "text": [
      "I Am Now A Master Of Logistic Regression\n"
     ]
    }
   ],
   "source": [
    "import string\n",
    "input_string = 'I am now a master of Logistic regression'\n",
    "print(string.capwords(input_string))\n",
    "\n",
    "    \n",
    "    "
   ]
  },
  {
   "cell_type": "code",
   "execution_count": 23,
   "metadata": {},
   "outputs": [
    {
     "name": "stdout",
     "output_type": "stream",
     "text": [
      "8\n"
     ]
    }
   ],
   "source": [
    "input_list = [7, 2, 0, 9, -1, 8]\n",
    "input_list.sort()\n",
    "\n",
    "uniqnum=set(input_list)\n",
    "input_list=list(uniqnum)\n",
    "input_list.sort()\n",
    "if len(input_list) == 1:\n",
    "    print('not present')\n",
    "elif len(input_list) > 1:\n",
    "    print(input_list[-2])"
   ]
  },
  {
   "cell_type": "code",
   "execution_count": 35,
   "metadata": {},
   "outputs": [],
   "source": [
    "import pandas as pd\n",
    "wholesale = pd.read_csv('https://media-doselect.s3.amazonaws.com/generic/OkbnaOBqrBXZOpRQw1JGMgaM9/Wholesale_Data.csv')\n",
    "#varlist=['Channel']\n",
    "#wholesale"
   ]
  },
  {
   "cell_type": "code",
   "execution_count": 34,
   "metadata": {},
   "outputs": [],
   "source": [
    "import pandas as pd\n",
    "wholesale = pd.read_csv('https://media-doselect.s3.amazonaws.com/generic/OkbnaOBqrBXZOpRQw1JGMgaM9/Wholesale_Data.csv')\n",
    "varlist=['Channel']\n",
    "wholesale[varlist]=wholesale[varlist].apply(lambda x:x.map({'C':'Cafe','Cafe':'Cafe','Caffe':'Cafe','H':'Hotel','Hot':'Hotel','Hotel':'Hotel','Hote':'Hotel','R':'Restaurant','Rest':'Restaurant','Restaurant':'Restaurant'}))\n",
    "#wholesale"
   ]
  },
  {
   "cell_type": "code",
   "execution_count": 54,
   "metadata": {},
   "outputs": [
    {
     "name": "stdout",
     "output_type": "stream",
     "text": [
      "{'Cafe': 3896012, 'Hotel': 4501729, 'Restaurant': 2415356}\n",
      "Restaurant\n"
     ]
    }
   ],
   "source": [
    "import pandas as pd\n",
    "wholesale = pd.read_csv('https://media-doselect.s3.amazonaws.com/generic/OqwpypRKN09x5GYej2LvVrprn/Wholesale_Data_Cleaned.csv')\n",
    "wholesale['Total']=wholesale.sum(axis=1)\n",
    "wholesale_Total=wholesale.groupby(['Channel'])['Total'].sum().to_dict()\n",
    "print(min(wholesale_Total, key=wholesale_Total.get))"
   ]
  },
  {
   "cell_type": "code",
   "execution_count": 63,
   "metadata": {},
   "outputs": [
    {
     "name": "stdout",
     "output_type": "stream",
     "text": [
      "0\n",
      "1\n",
      "1\n",
      "2\n",
      "3\n"
     ]
    }
   ],
   "source": [
    "n = 5\n",
    "\n",
    "# first two terms\n",
    "n1, n2 = 0, 1\n",
    "count = 0\n",
    "\n",
    "# check if the number of terms is valid\n",
    "if n== 0:\n",
    "    print(\"Please enter a positive integer\")\n",
    "elif n == 1:\n",
    "    print(n1)\n",
    "else:\n",
    "    while count < n:\n",
    "        print(n1)\n",
    "        nth = n1 + n2\n",
    "       # update values\n",
    "        n1 = n2\n",
    "        n2 = nth\n",
    "        count += 1"
   ]
  },
  {
   "cell_type": "code",
   "execution_count": 68,
   "metadata": {},
   "outputs": [
    {
     "name": "stdout",
     "output_type": "stream",
     "text": [
      "number entered is prime\n",
      "number entered is prime\n",
      "number entered is prime\n",
      "number entered is prime\n",
      "number entered is prime\n",
      "number entered is prime\n",
      "number entered is prime\n",
      "number entered is prime\n",
      "number entered is prime\n",
      "number entered is not prime\n"
     ]
    }
   ],
   "source": [
    "num = 407\n",
    "# To take input from the user\n",
    "#num = int(input(\"Enter a number: \"))\n",
    "# prime numbers are greater than 1\n",
    "if num > 1:\n",
    "    # check for factors\n",
    "    for i in range(2,num):\n",
    "        if (num % i) == 0:\n",
    "            print(\"number entered is not prime\")\n",
    "            break\n",
    "        else:\n",
    "            print(\"number entered is prime\")\n",
    "            \n",
    "# if input number is less than\n",
    "# or equal to 1, it is not prime\n",
    "else:\n",
    "    print(\"number entered is not prime\")"
   ]
  },
  {
   "cell_type": "code",
   "execution_count": 72,
   "metadata": {},
   "outputs": [
    {
     "name": "stdout",
     "output_type": "stream",
     "text": [
      "number entered is prime\n"
     ]
    }
   ],
   "source": [
    "num = 5\n",
    "  \n",
    "# If given number is greater than 1 \n",
    "if num > 1: \n",
    "      \n",
    "   # Iterate from 2 to n / 2  \n",
    "   for i in range(2, num//2): \n",
    "         \n",
    "       # If num is divisible by any number between  \n",
    "       # 2 and n / 2, it is not prime  \n",
    "       if (num % i) == 0: \n",
    "           print(\"number entered is not prime\") \n",
    "           break\n",
    "   else: \n",
    "       print(\"number entered is prime\") \n",
    "  \n",
    "else: \n",
    "   print(\"number entered is not prime\") "
   ]
  },
  {
   "cell_type": "code",
   "execution_count": 78,
   "metadata": {},
   "outputs": [
    {
     "name": "stdout",
     "output_type": "stream",
     "text": [
      "True\n"
     ]
    }
   ],
   "source": [
    "num = 153\n",
    "sum = 0  \n",
    "temp = num  \n",
    "      \n",
    "while temp > 0:\n",
    "    digit = temp % 10  \n",
    "    sum += digit ** 3  \n",
    "    temp //= 10  \n",
    "      \n",
    "if num == sum:\n",
    "    print(\"True\")  \n",
    "else:\n",
    "    print(\"False\")  "
   ]
  },
  {
   "cell_type": "code",
   "execution_count": 83,
   "metadata": {},
   "outputs": [],
   "source": [
    "import pandas as pd\n",
    "import ast,sys\n",
    "df=pd.read_csv(\"https://media-doselect.s3.amazonaws.com/generic/X0kvr3wEYXRzONE5W37xWWYYA/test.csv\")\n",
    "#input_str = sys.stdin.read()\n",
    "to_omit = ['PassengerId', 'Pclass', 'Name', 'Sex','Embarked']\n",
    "df1=df.drop(to_omit,axis=1)\n",
    "#df1[sorted(df1.columns)]\n",
    "#print(df1.head())"
   ]
  },
  {
   "cell_type": "code",
   "execution_count": 86,
   "metadata": {},
   "outputs": [
    {
     "name": "stdout",
     "output_type": "stream",
     "text": [
      "[0, 2, 6]\n"
     ]
    }
   ],
   "source": [
    "import ast,sys\n",
    "import pandas as pd\n",
    "\n",
    "input_str = sys.stdin.read()\n",
    "input_list = [[1,2,3,4,5,6,7],[1,3,7]]\n",
    "series1=pd.Series(input_list[0])\n",
    "series2=pd.Series(input_list[1])\n",
    "ser_lst1=list(series1)\n",
    "out_list=[]\n",
    "for i in series2:\n",
    "    out_list.append(ser_lst1.index(i))\n",
    "print(out_list)\n",
    "#print(Index(series1).get_loc(7))"
   ]
  },
  {
   "cell_type": "code",
   "execution_count": 103,
   "metadata": {},
   "outputs": [
    {
     "name": "stdout",
     "output_type": "stream",
     "text": [
      "            Rating  Installs\n",
      "Rating    1.000000  0.051355\n",
      "Installs  0.051355  1.000000\n"
     ]
    }
   ],
   "source": [
    "import pandas as pd \n",
    "import numpy as np\n",
    "df=pd.read_csv(\"https://media-doselect.s3.amazonaws.com/generic/8NMooe4G0ENEe8z9q5ZvaZA7/googleplaystore.csv\")\n",
    "df['Installs'] = df['Installs'].str.replace(',', '')\n",
    "df['Installs'] = df['Installs'].str.replace('+', '')\n",
    "#df['Installs'] = df['Installs'].str.replace('Free', '0')\n",
    "df.drop(df[df['Installs'] == 'Free'].index, inplace = True)\n",
    "\n",
    "df[\"Installs\"] = pd.to_numeric(df[\"Installs\"])\n",
    "#numcollist=df.select_dtypes(include=np.number).columns.tolist()\n",
    "print(df.corr())"
   ]
  },
  {
   "cell_type": "code",
   "execution_count": null,
   "metadata": {},
   "outputs": [],
   "source": []
  }
 ],
 "metadata": {
  "kernelspec": {
   "display_name": "Python 3",
   "language": "python",
   "name": "python3"
  },
  "language_info": {
   "codemirror_mode": {
    "name": "ipython",
    "version": 3
   },
   "file_extension": ".py",
   "mimetype": "text/x-python",
   "name": "python",
   "nbconvert_exporter": "python",
   "pygments_lexer": "ipython3",
   "version": "3.7.4"
  }
 },
 "nbformat": 4,
 "nbformat_minor": 2
}
