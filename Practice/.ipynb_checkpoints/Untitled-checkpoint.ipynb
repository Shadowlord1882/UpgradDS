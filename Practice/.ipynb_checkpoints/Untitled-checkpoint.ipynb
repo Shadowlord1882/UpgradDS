{
 "cells": [
  {
   "cell_type": "code",
   "execution_count": 3,
   "metadata": {},
   "outputs": [
    {
     "name": "stdout",
     "output_type": "stream",
     "text": [
      "1\n"
     ]
    }
   ],
   "source": [
    "print((500//7)%5)"
   ]
  },
  {
   "cell_type": "code",
   "execution_count": 6,
   "metadata": {},
   "outputs": [
    {
     "name": "stdout",
     "output_type": "stream",
     "text": [
      "love\n"
     ]
    }
   ],
   "source": [
    "S = 'I love Python'\n",
    "print(S[-11:-7])"
   ]
  },
  {
   "cell_type": "code",
   "execution_count": 7,
   "metadata": {},
   "outputs": [
    {
     "name": "stdout",
     "output_type": "stream",
     "text": [
      "[1, 2, 3, 1, 2, 3]\n"
     ]
    }
   ],
   "source": [
    "L = [1, 2, 3]\n",
    "print(L*2)"
   ]
  },
  {
   "cell_type": "code",
   "execution_count": 8,
   "metadata": {},
   "outputs": [
    {
     "name": "stdout",
     "output_type": "stream",
     "text": [
      "[[7, 8, 9, 10]]\n"
     ]
    }
   ],
   "source": [
    "L = [[1, 2, 3], [4, 5, 6], [7, 8, 9, 10]]\n",
    "print(L[2:])"
   ]
  },
  {
   "cell_type": "code",
   "execution_count": 9,
   "metadata": {},
   "outputs": [
    {
     "ename": "AttributeError",
     "evalue": "'tuple' object has no attribute 'append'",
     "output_type": "error",
     "traceback": [
      "\u001b[1;31m---------------------------------------------------------------------------\u001b[0m",
      "\u001b[1;31mAttributeError\u001b[0m                            Traceback (most recent call last)",
      "\u001b[1;32m<ipython-input-9-729a20c6e7e6>\u001b[0m in \u001b[0;36m<module>\u001b[1;34m\u001b[0m\n\u001b[0;32m      1\u001b[0m \u001b[0mT\u001b[0m \u001b[1;33m=\u001b[0m \u001b[1;33m(\u001b[0m\u001b[1;36m3\u001b[0m\u001b[1;33m,\u001b[0m \u001b[1;36m5\u001b[0m\u001b[1;33m,\u001b[0m \u001b[1;36m7\u001b[0m\u001b[1;33m,\u001b[0m \u001b[1;36m11\u001b[0m\u001b[1;33m)\u001b[0m\u001b[1;33m\u001b[0m\u001b[1;33m\u001b[0m\u001b[0m\n\u001b[1;32m----> 2\u001b[1;33m \u001b[0mT\u001b[0m\u001b[1;33m.\u001b[0m\u001b[0mappend\u001b[0m\u001b[1;33m(\u001b[0m\u001b[1;36m9\u001b[0m\u001b[1;33m)\u001b[0m\u001b[1;33m\u001b[0m\u001b[1;33m\u001b[0m\u001b[0m\n\u001b[0m\u001b[0;32m      3\u001b[0m \u001b[0mprint\u001b[0m\u001b[1;33m(\u001b[0m\u001b[0mT\u001b[0m\u001b[1;33m)\u001b[0m\u001b[1;33m\u001b[0m\u001b[1;33m\u001b[0m\u001b[0m\n",
      "\u001b[1;31mAttributeError\u001b[0m: 'tuple' object has no attribute 'append'"
     ]
    }
   ],
   "source": [
    "T = (3, 5, 7, 11)\n",
    "T.append(9)\n",
    "print(T)"
   ]
  },
  {
   "cell_type": "code",
   "execution_count": 10,
   "metadata": {},
   "outputs": [
    {
     "name": "stdout",
     "output_type": "stream",
     "text": [
      "1\n",
      "2\n",
      "3\n"
     ]
    }
   ],
   "source": [
    "D = {1:['Raj', 22], 2:['Simran', 21], 3:['Rahul', 40]}\n",
    "for val in D:\n",
    "     print(val)"
   ]
  },
  {
   "cell_type": "code",
   "execution_count": 14,
   "metadata": {},
   "outputs": [
    {
     "name": "stdout",
     "output_type": "stream",
     "text": [
      "6\n"
     ]
    }
   ],
   "source": [
    "import functools\n",
    "\n",
    "def factorial(n):\n",
    "    if n == 0:\n",
    "        return 1\n",
    "    else:\n",
    "        return functools.reduce(lambda x,y: x*y, range(1,n+1))\n",
    "    \n",
    "test=factorial(3)\n",
    "print(test)\n"
   ]
  },
  {
   "cell_type": "code",
   "execution_count": 20,
   "metadata": {},
   "outputs": [
    {
     "name": "stdout",
     "output_type": "stream",
     "text": [
      "[2, 5, 9, 13]\n"
     ]
    }
   ],
   "source": [
    "import ast,sys\n",
    "input_str = sys.stdin.read()\n",
    "input_list = [[2, 5, 9, 12, 13, 15, 16, 17, 18, 19], [2, 4, 5, 6, 7, 9, 13, 16, 20], [1, 2, 5, 9, 10, 11, 12, 13, 15, 20]]\n",
    "C = input_list[0]\n",
    "F = input_list[1]\n",
    "H = input_list[2]\n",
    "\n",
    "# Write your code here\n",
    "#COde to find people who play all sports\n",
    "c_set = set(C)\n",
    "f_set=set(F)\n",
    "h_set=set(H)\n",
    "all_set_temp=c_set.intersection(f_set)\n",
    "all_set=all_set_temp.intersection(h_set)\n",
    "new_all=list(all_set)\n",
    "new_all.sort()\n",
    "\n",
    "#COde to find Students who play both cricket and football but don’t play hockey\n",
    "\n",
    "print(new_all)\n"
   ]
  },
  {
   "cell_type": "code",
   "execution_count": 5,
   "metadata": {},
   "outputs": [
    {
     "name": "stdout",
     "output_type": "stream",
     "text": [
      "[0, 2, 6]\n"
     ]
    }
   ],
   "source": [
    "import ast,sys\n",
    "import pandas as pd\n",
    "input_str = sys.stdin.read()\n",
    "input_list = [[1,2,3,4,5,6,7],[1,3,7]]\n",
    "series1=pd.Series(input_list[0])\n",
    "series2=pd.Series(input_list[1])\n",
    "out_list=[]\n",
    "for i in series2:\n",
    "    out_list.append(pd.Index(series1).get_loc(i))\n",
    "print(out_list)"
   ]
  },
  {
   "cell_type": "code",
   "execution_count": 9,
   "metadata": {},
   "outputs": [
    {
     "name": "stdout",
     "output_type": "stream",
     "text": [
      "     age  sex  cp  trestbps  chol  fbs  restecg  thalach  exang  oldpeak  \\\n",
      "302   57    0   1       130   236    0        0      174      0      0.0   \n",
      "301   57    1   0       130   131    0        1      115      1      1.2   \n",
      "300   68    1   0       144   193    1        1      141      0      3.4   \n",
      "299   45    1   3       110   264    0        1      132      0      1.2   \n",
      "\n",
      "     slope  ca  thal  target  \n",
      "302      1   1     2       0  \n",
      "301      1   1     3       0  \n",
      "300      1   2     3       0  \n",
      "299      1   0     3       0  \n"
     ]
    }
   ],
   "source": [
    "import pandas as pd \n",
    "url='https://media-doselect.s3.amazonaws.com/generic/o8oEby20V1LLAZzpABwWa7R1n/heart.csv'\n",
    "n=4\n",
    "df=pd.read_csv(url)\n",
    "pd.set_option('display.max_columns', 500)\n",
    "print(df.iloc[::-1].head(n))"
   ]
  },
  {
   "cell_type": "code",
   "execution_count": 131,
   "metadata": {},
   "outputs": [
    {
     "name": "stdout",
     "output_type": "stream",
     "text": [
      "(836, 13)\n"
     ]
    }
   ],
   "source": [
    "import pandas as pd \n",
    "\n",
    "url='https://media-doselect.s3.amazonaws.com/generic/1YZQ77KLVyegqroyJgk5Z7d1/titaniMod2.csv' \n",
    "df=pd.read_csv(url)\n",
    "pd.set_option('display.max_columns', 500)\n",
    "print(df.shape)"
   ]
  },
  {
   "cell_type": "code",
   "execution_count": 142,
   "metadata": {},
   "outputs": [
    {
     "name": "stdout",
     "output_type": "stream",
     "text": [
      "['Age', 'Fare', 'Parch', 'PassengerId', 'Pclass', 'SibSp']\n",
      "418\n",
      "13\n",
      "0    19791007\n",
      "1    19791007\n",
      "2    19791007\n",
      "3    19791007\n",
      "4    19791007\n",
      "5    19791007\n",
      "6    19791007\n",
      "7    19791007\n",
      "8    19791007\n",
      "9    19791007\n",
      "Name: Date, dtype: object\n",
      "    Age   Fare  Parch  PassengerId  Pclass  SibSp\n",
      "0  34.5   7.83    0.0        892.0     3.0    0.0\n",
      "1  47.0   7.00    0.0        893.0     3.0    1.0\n",
      "2  62.0   9.69    0.0        894.0     2.0    0.0\n",
      "3  27.0   8.66    0.0        895.0     3.0    0.0\n",
      "4  22.0  12.29    1.0        896.0     3.0    1.0\n"
     ]
    }
   ],
   "source": [
    "\n",
    "nan_percent=0.5\n",
    "threshold = int(len(df.columns) * nan_percent)\n",
    "df=df.dropna(thresh=threshold, axis=0)\n",
    "df['Date'] = df['Date'].replace('-','',regex=True)\n",
    "df_num = df.select_dtypes(include=[np.float]).columns.tolist()\n",
    "print(df_num)\n",
    "for i in df_num:\n",
    "    df[i] = df[i].round(2)\n",
    "print(df.shape[0])\n",
    "print(df.shape[1])\n",
    "print(df['Date'].head(10))\n",
    "print(df[df_num].head(5))"
   ]
  },
  {
   "cell_type": "code",
   "execution_count": 26,
   "metadata": {},
   "outputs": [
    {
     "name": "stdout",
     "output_type": "stream",
     "text": [
      "   col1  col2  col3\n",
      "0     1     3     5\n",
      "1     2     4     6\n"
     ]
    },
    {
     "data": {
      "text/plain": [
       "1"
      ]
     },
     "execution_count": 26,
     "metadata": {},
     "output_type": "execute_result"
    }
   ],
   "source": [
    "df = pd.DataFrame({'col1': [1, 2], 'col2': [3, 4], 'col3': [5, 6]})\n",
    "print(df)\n",
    "int(df.shape[0]/2)"
   ]
  },
  {
   "cell_type": "code",
   "execution_count": 69,
   "metadata": {},
   "outputs": [
    {
     "name": "stdout",
     "output_type": "stream",
     "text": [
      "[1]\n",
      "[1, 1]\n",
      "[1, 2, 1]\n",
      "[1, 3, 3, 1]\n",
      "[1, 4, 6, 4, 1]\n"
     ]
    }
   ],
   "source": [
    "def binomialCoeff(n, k) : \n",
    "    res = 1\n",
    "    if (k > n - k) : \n",
    "        k = n - k \n",
    "    for i in range(0 , k) : \n",
    "        res = res * (n - i) \n",
    "        res = res // (i + 1) \n",
    "    #print (\"Res\",res)\n",
    "    return res \n",
    "\n",
    "def printPascal(n) : \n",
    "    a=[]\n",
    "    # Iterate through every line  \n",
    "    # and print entries in it \n",
    "    for line in range(0, n) : \n",
    "        a=[] \n",
    "        # Every line has number of  \n",
    "        # integers equal to line \n",
    "        # number \n",
    "        for i in range(0, line + 1): \n",
    "            a.append(binomialCoeff(line, i))\n",
    "            #print(binomialCoeff(line, i), \n",
    "                #\" \", end = \"\")\n",
    "        print(a)\n",
    "\n",
    "\n",
    "printPascal(n)"
   ]
  },
  {
   "cell_type": "code",
   "execution_count": 74,
   "metadata": {},
   "outputs": [
    {
     "name": "stdout",
     "output_type": "stream",
     "text": [
      "Serial No.\n",
      "GRE Score\n",
      "TOEFL Score\n",
      "       Serial No.   GRE Score  TOEFL Score  University Rating         SOP  \\\n",
      "count   400.00000  400.000000   400.000000         400.000000  400.000000   \n",
      "mean      0.50000    0.536150     0.550357           3.087500    3.400000   \n",
      "std       0.28976    0.229473     0.216768           1.143728    1.006869   \n",
      "min       0.00000    0.000000     0.000000           1.000000    1.000000   \n",
      "25%       0.25000    0.360000     0.392857           2.000000    2.500000   \n",
      "50%       0.50000    0.540000     0.535714           3.000000    3.500000   \n",
      "75%       0.75000    0.700000     0.714286           4.000000    4.000000   \n",
      "max       1.00000    1.000000     1.000000           5.000000    5.000000   \n",
      "\n",
      "             LOR         CGPA    Research  Chance of Admit   \n",
      "count  400.000000  400.000000  400.000000        400.000000  \n",
      "mean     3.452500    8.598925    0.547500          0.724350  \n",
      "std      0.898478    0.596317    0.498362          0.142609  \n",
      "min      1.000000    6.800000    0.000000          0.340000  \n",
      "25%      3.000000    8.170000    0.000000          0.640000  \n",
      "50%      3.500000    8.610000    1.000000          0.730000  \n",
      "75%      4.000000    9.062500    1.000000          0.830000  \n",
      "max      5.000000    9.920000    1.000000          0.970000  \n"
     ]
    }
   ],
   "source": [
    "import pandas as pd \n",
    "pd.set_option('display.max_columns', 500)\n",
    "import sys,ast\n",
    "#input_str = sys.stdin.read()\n",
    "colsToNormalize = ['Serial No.', 'GRE Score', 'TOEFL Score']\n",
    "df=pd.read_csv(\"https://media-doselect.s3.amazonaws.com/generic/GVj4YrNpJwOvL7gBe2B53wJy/Admission_Predict.csv\")\n",
    "for i in colsToNormalize:\n",
    "    print(i)\n",
    "    df[i] = (df[i] - df[i].min())/(df[i].max() - df[i].min())\n",
    "print(df.describe())"
   ]
  },
  {
   "cell_type": "code",
   "execution_count": 109,
   "metadata": {},
   "outputs": [
    {
     "name": "stdout",
     "output_type": "stream",
     "text": [
      "91\n",
      "418\n",
      "12\n",
      "   PassengerId  Pclass                              Name     Sex       Age  \\\n",
      "0     0.000000     1.0                  Kelly, Mr. James    male  0.452723   \n",
      "1     0.002398     1.0  Wilkes, Mrs. James (Ellen Needs)  female  0.617566   \n",
      "2     0.004796     0.5         Myles, Mr. Thomas Francis    male  0.815377   \n",
      "\n",
      "   SibSp  Parch  Ticket      Fare Cabin Embarked      Year  \n",
      "0  0.000    0.0  330911  0.015282   NaN        Q  0.326389  \n",
      "1  0.125    0.0  363272  0.013663   NaN        S  0.972222  \n",
      "2  0.000    0.0  240276  0.018909   NaN        Q  0.763889  \n"
     ]
    }
   ],
   "source": [
    "import pandas as pd \n",
    "pd.set_option('display.max_columns', 500)\n",
    "import numpy as np \n",
    "url='https://media-doselect.s3.amazonaws.com/generic/eJ5zayg0OnnX5PqMvAR8KQd9p/titanicmod.csv'\n",
    "df=pd.read_csv(url)\n",
    "#print(df.head())\n",
    "\n",
    "#Remove rows with more than 2 missing values\n",
    "df.dropna(thresh=2,axis=0)\n",
    "#print(df.shape)\n",
    "#Remove any column having the same value for all rows\n",
    "nunique = df.apply(pd.Series.nunique)\n",
    "cols_to_drop = nunique[nunique == 1].index\n",
    "df=df.drop(cols_to_drop, axis=1)\n",
    "\n",
    "#Determine invalid values in the 'Year' column\n",
    "df['INVYear'] = df['Year'].apply(lambda x: 'Invalid' if x<1900 or x>2018 else x)\n",
    "Invaliddf=df[df['INVYear']=='Invalid']\n",
    "invalidcnt=Invaliddf.shape[0]\n",
    "del df['INVYear']\n",
    "\n",
    "#Normalize all numerical columns(check for integer and float columns) \n",
    "colnames_numerics_only = df.select_dtypes(include=[np.number]).columns.tolist()\n",
    "for i in colnames_numerics_only:\n",
    "    df[i] = (df[i] - df[i].min())/(df[i].max() - df[i].min())\n",
    "df=df.drop_duplicates()\n",
    "print(invalidcnt)\n",
    "print(df.shape[0])\n",
    "print(df.shape[1])\n",
    "print(df.head(3))"
   ]
  },
  {
   "cell_type": "code",
   "execution_count": 62,
   "metadata": {},
   "outputs": [
    {
     "name": "stdout",
     "output_type": "stream",
     "text": [
      "   PassengerId  Pclass                              Name     Sex   Age  SibSp  \\\n",
      "0          892       3                  Kelly, Mr. James    male  34.5      0   \n",
      "1          893       3  Wilkes, Mrs. James (Ellen Needs)  female  47.0      1   \n",
      "2          894       2         Myles, Mr. Thomas Francis    male  62.0      0   \n",
      "\n",
      "   Parch  Ticket    Fare Cabin Embarked  \n",
      "0      0  330911  7.8292   NaN        Q  \n",
      "1      0  363272  7.0000   NaN        S  \n",
      "2      0  240276  9.6875   NaN        Q  \n"
     ]
    }
   ],
   "source": [
    "import pandas as pd \n",
    "pd.set_option('display.max_columns', 500)\n",
    "import sys,ast\n",
    "df=pd.read_csv('test.csv')\n",
    "\n",
    "input_list = [['Pclass','Age'],[3,13]]\n",
    "cols=input_list[0]#the columns to group the dataframe by\n",
    "values=input_list[1]# The group to print\n",
    "#Write your code here\n",
    "print(df.head(3))"
   ]
  },
  {
   "cell_type": "code",
   "execution_count": 85,
   "metadata": {},
   "outputs": [
    {
     "name": "stdout",
     "output_type": "stream",
     "text": [
      "<built-in method keys of dict object at 0x0DEFB390>\n"
     ]
    },
    {
     "ename": "AttributeError",
     "evalue": "'dict' object has no attribute 'iteritems'",
     "output_type": "error",
     "traceback": [
      "\u001b[1;31m---------------------------------------------------------------------------\u001b[0m",
      "\u001b[1;31mAttributeError\u001b[0m                            Traceback (most recent call last)",
      "\u001b[1;32m<ipython-input-85-66dc706e90b8>\u001b[0m in \u001b[0;36m<module>\u001b[1;34m\u001b[0m\n\u001b[0;32m     18\u001b[0m \u001b[0mgb\u001b[0m \u001b[1;33m=\u001b[0m \u001b[0mfirstgrp\u001b[0m\u001b[1;33m.\u001b[0m\u001b[0mgroups\u001b[0m\u001b[1;33m\u001b[0m\u001b[1;33m\u001b[0m\u001b[0m\n\u001b[0;32m     19\u001b[0m \u001b[0mprint\u001b[0m\u001b[1;33m(\u001b[0m\u001b[0mgb\u001b[0m\u001b[1;33m.\u001b[0m\u001b[0mkeys\u001b[0m\u001b[1;33m)\u001b[0m\u001b[1;33m\u001b[0m\u001b[1;33m\u001b[0m\u001b[0m\n\u001b[1;32m---> 20\u001b[1;33m \u001b[1;32mfor\u001b[0m \u001b[0mkey\u001b[0m\u001b[1;33m,\u001b[0m \u001b[0mvalues\u001b[0m \u001b[1;32min\u001b[0m \u001b[0mgb\u001b[0m\u001b[1;33m.\u001b[0m\u001b[0miteritems\u001b[0m\u001b[1;33m(\u001b[0m\u001b[1;33m)\u001b[0m\u001b[1;33m:\u001b[0m\u001b[1;33m\u001b[0m\u001b[1;33m\u001b[0m\u001b[0m\n\u001b[0m\u001b[0;32m     21\u001b[0m     \u001b[0mprint\u001b[0m\u001b[1;33m(\u001b[0m\u001b[0mdf\u001b[0m\u001b[1;33m.\u001b[0m\u001b[0mix\u001b[0m\u001b[1;33m[\u001b[0m\u001b[0mvalues\u001b[0m\u001b[1;33m]\u001b[0m\u001b[1;33m,\u001b[0m \u001b[1;34m\"\\n\\n\"\u001b[0m\u001b[1;33m)\u001b[0m\u001b[1;33m\u001b[0m\u001b[1;33m\u001b[0m\u001b[0m\n",
      "\u001b[1;31mAttributeError\u001b[0m: 'dict' object has no attribute 'iteritems'"
     ]
    }
   ],
   "source": [
    "#first_group=df.groupby(cols)\n",
    "#print(first_group.head())\n",
    "#df.query('cols[0] == values[0] and cols[1] == values[1]', inplace = True) \n",
    "#Works\n",
    "\n",
    "\n",
    "#df=df.loc[(df[cols[0]] == values[0])]\n",
    "#df=df.loc[(df[cols[1]] == values[1])]\n",
    "#print(df.head(3))\n",
    "\n",
    "#df1=df[(df[cols[0]] == values[0]) & (df[cols[1]] == values[1]) ].groupby(cols)\n",
    "#print(df1.head())\n",
    "\n",
    "filter1 = df[cols[0]] == values[0]\n",
    "filter2 = df[cols[1]] == values[1]\n",
    "firstgrp=df.groupby(cols)\n",
    "\n",
    "gb = firstgrp.groups\n",
    "gb.keys\n",
    "for key, values in gb.iteritems():\n",
    "    print(df.ix[values], \"\\n\\n\")"
   ]
  },
  {
   "cell_type": "code",
   "execution_count": 58,
   "metadata": {},
   "outputs": [
    {
     "name": "stdout",
     "output_type": "stream",
     "text": [
      "                                                                        Sentiment_Polarity  \\\n",
      "App                   Translated_Review                      Sentiment                       \n",
      "10 Best Foods for You 10 best foods 4u Excellent chose foods Positive                 1.00   \n",
      "                      A big thanks ds I got bst gd health    Positive                 0.10   \n",
      "                      Absolutely Fabulous Phenomenal         Positive                 0.45   \n",
      "                      Amazing                                Positive                 0.60   \n",
      "                      An excellent A useful                  Positive                 0.65   \n",
      "\n",
      "                                                                        Sentiment_Subjectivity  \n",
      "App                   Translated_Review                      Sentiment                          \n",
      "10 Best Foods for You 10 best foods 4u Excellent chose foods Positive                     0.65  \n",
      "                      A big thanks ds I got bst gd health    Positive                     0.15  \n",
      "                      Absolutely Fabulous Phenomenal         Positive                     0.75  \n",
      "                      Amazing                                Positive                     0.90  \n",
      "                      An excellent A useful                  Positive                     0.50  \n"
     ]
    }
   ],
   "source": [
    "import pandas as pd \n",
    "pd.set_option('display.max_columns', 500)\n",
    "url='googleplaystore_user_reviews.csv'\n",
    "df=pd.read_csv(url)\n",
    "charcollist=[]\n",
    "for col in df:\n",
    "    if(pd.api.types.is_numeric_dtype(df[col])==False):\n",
    "        charcollist.append(col)\n",
    "firstgrp=df.groupby(charcollist).mean()\n",
    "print(firstgrp.head(5))"
   ]
  },
  {
   "cell_type": "code",
   "execution_count": 61,
   "metadata": {},
   "outputs": [
    {
     "name": "stdout",
     "output_type": "stream",
     "text": [
      "['App', 'Translated_Review', 'Sentiment']\n"
     ]
    }
   ],
   "source": [
    "\n",
    "print(charcollist)\n",
    "        "
   ]
  },
  {
   "cell_type": "code",
   "execution_count": null,
   "metadata": {},
   "outputs": [],
   "source": [
    "import pandas as pd \n",
    "pd.set_option('display.max_columns', 500)\n",
    "url=input()\n",
    "df=pd.read_csv(url)\n",
    "datatypes = [word for word in df.dtypes]\n",
    "strindexes = [i for i in range(len(datatypes)) if ('int' not in str(datatypes[i])) & ('float' not in str(datatypes[i]))]\n",
    "intindexes = [i for i in range(len(datatypes)) if ('int' in str(datatypes[i])) | ('float' in str(datatypes[i]))]\n",
    "strcols = df.columns[strindexes]\n",
    "intcols = df.columns[intindexes]\n",
    "df2 = df.pivot_table(index = list(strcols), values = list(intcols), aggfunc = 'mean')\n",
    "print(df2.head(5))"
   ]
  },
  {
   "cell_type": "code",
   "execution_count": null,
   "metadata": {},
   "outputs": [],
   "source": [
    "import pandas as pd \n",
    "pd.set_option('display.max_columns', 500)\n",
    "import sys,ast\n",
    "input_str = sys.stdin.read()\n",
    "input_list = ast.literal_eval(input_str)\n",
    "cols=input_list[0]\n",
    "values=input_list[1]\n",
    "df=pd.read_csv('https://media-doselect.s3.amazonaws.com/generic/wkyk2AWYdJbqgXoRo3Y8w42nX/test.csv')\n",
    "print(df.groupby(cols).get_group(tuple(values)).head())"
   ]
  }
 ],
 "metadata": {
  "kernelspec": {
   "display_name": "Python 3",
   "language": "python",
   "name": "python3"
  },
  "language_info": {
   "codemirror_mode": {
    "name": "ipython",
    "version": 3
   },
   "file_extension": ".py",
   "mimetype": "text/x-python",
   "name": "python",
   "nbconvert_exporter": "python",
   "pygments_lexer": "ipython3",
   "version": "3.7.4"
  }
 },
 "nbformat": 4,
 "nbformat_minor": 2
}
